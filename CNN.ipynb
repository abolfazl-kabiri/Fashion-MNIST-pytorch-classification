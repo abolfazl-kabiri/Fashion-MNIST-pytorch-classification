{
 "cells": [
  {
   "cell_type": "markdown",
   "metadata": {
    "id": "PYCh7DsCP5Mw"
   },
   "source": [
    "### Install Required Libs"
   ]
  },
  {
   "cell_type": "code",
   "metadata": {
    "id": "RyzZPqtUP5M5",
    "colab": {
     "base_uri": "https://localhost:8080/"
    },
    "outputId": "295c98a8-5b13-475c-e988-5889eab5a6fb"
   },
   "source": [
    "# only local run: install required libs (recommended python version 3.10)خب\n",
    "%pip install numpy\n",
    "%pip install matplotlib\n",
    "%pip install torch torchvision torchaudio tqdm"
   ],
   "outputs": [],
   "execution_count": null
  },
  {
   "cell_type": "markdown",
   "metadata": {
    "id": "x8ECrxZGP5M-"
   },
   "source": [
    "### Import Libs"
   ]
  },
  {
   "cell_type": "code",
   "metadata": {
    "id": "2Gh-5xKEP5NB",
    "ExecuteTime": {
     "end_time": "2025-09-29T21:31:27.468016Z",
     "start_time": "2025-09-29T21:31:25.110801Z"
    }
   },
   "source": [
    "import torch\n",
    "import torch.nn as nn\n",
    "import torch.nn.functional as Functions\n",
    "import torch.optim as Optimizers\n",
    "\n",
    "from torchvision.datasets import FashionMNIST\n",
    "from torchvision.transforms import ToTensor\n",
    "from torch.utils.data import DataLoader\n",
    "from tqdm.auto import tqdm\n",
    "\n",
    "import matplotlib.pyplot as plt"
   ],
   "outputs": [],
   "execution_count": 1
  },
  {
   "cell_type": "markdown",
   "metadata": {
    "id": "SgxnptIYP5NE"
   },
   "source": [
    "### Set Device\n",
    "You can use GPU instead of CPU for faster calculation!"
   ]
  },
  {
   "cell_type": "markdown",
   "source": [],
   "metadata": {
    "id": "9IpqJWvxUZ01"
   }
  },
  {
   "cell_type": "code",
   "metadata": {
    "id": "kXcQVqI3P5NG",
    "colab": {
     "base_uri": "https://localhost:8080/"
    },
    "outputId": "ab2817fe-44a3-478d-eca9-0fb4421b3a87",
    "ExecuteTime": {
     "end_time": "2025-09-29T21:31:32.361820Z",
     "start_time": "2025-09-29T21:31:32.358850Z"
    }
   },
   "source": [
    "device = \"cuda\" if torch.cuda.is_available() else \"cpu\"\n",
    "print(device)"
   ],
   "outputs": [
    {
     "name": "stdout",
     "output_type": "stream",
     "text": [
      "cpu\n"
     ]
    }
   ],
   "execution_count": 2
  },
  {
   "cell_type": "markdown",
   "metadata": {
    "id": "eBs-lN2tP5NH"
   },
   "source": [
    "### Download CIFAR-10 Dataset and Transform to Tensor"
   ]
  },
  {
   "cell_type": "code",
   "metadata": {
    "id": "QDhq3JAXP5NJ",
    "colab": {
     "base_uri": "https://localhost:8080/"
    },
    "outputId": "8d8952f2-205b-43e9-e758-fbfb67cd6c02",
    "ExecuteTime": {
     "end_time": "2025-09-29T21:31:35.304598Z",
     "start_time": "2025-09-29T21:31:35.271155Z"
    }
   },
   "source": [
    "transform = ToTensor()\n",
    "\n",
    "\"Set download=True to download dataset online\"\n",
    "data_path = './data_'\n",
    "mnist_train = FashionMNIST(data_path, train=True, download=True, transform=transform)\n",
    "mnist_test = FashionMNIST(data_path, train=False, download=True, transform=transform)"
   ],
   "outputs": [],
   "execution_count": 3
  },
  {
   "cell_type": "markdown",
   "metadata": {
    "id": "FQSFNFxRP5NL"
   },
   "source": [
    "### A Brief View on Data"
   ]
  },
  {
   "cell_type": "code",
   "metadata": {
    "id": "SPCT8zb9P5NO",
    "colab": {
     "base_uri": "https://localhost:8080/"
    },
    "outputId": "babad32c-5ce8-4be5-ef97-45b0b125e341",
    "ExecuteTime": {
     "end_time": "2025-09-29T21:31:43.774297Z",
     "start_time": "2025-09-29T21:31:43.769297Z"
    }
   },
   "source": [
    "# size of training and test sets\n",
    "print(\"Training: \", len(mnist_train))\n",
    "print(\"Testing: \", len(mnist_test))\n",
    "\n",
    "# type of train and test: it is a collection of tuple(tensor, label)\n",
    "print(type(mnist_train[0]))\n",
    "\n",
    "# label, as you know, is the class of image\n",
    "# tensor contains image data (You will learn more about Tensor later)\n",
    "image, label = mnist_train[0]\n",
    "print(type(image))\n",
    "\n",
    "# lets check the dimension - it is a 28x28 RGB image\n",
    "print(image.shape)\n",
    "\n",
    "# lets see what classes we have\n",
    "classes = mnist_train.classes\n",
    "print(classes)\n",
    "print(label)\n",
    "print(classes[label])"
   ],
   "outputs": [
    {
     "name": "stdout",
     "output_type": "stream",
     "text": [
      "Training:  60000\n",
      "Testing:  10000\n",
      "<class 'tuple'>\n",
      "<class 'torch.Tensor'>\n",
      "torch.Size([1, 28, 28])\n",
      "['T-shirt/top', 'Trouser', 'Pullover', 'Dress', 'Coat', 'Sandal', 'Shirt', 'Sneaker', 'Bag', 'Ankle boot']\n",
      "9\n",
      "Ankle boot\n"
     ]
    }
   ],
   "execution_count": 4
  },
  {
   "cell_type": "markdown",
   "metadata": {
    "id": "4VukCadtP5NR"
   },
   "source": [
    "### Define Batch Size\n",
    "It is important to understand that to build the Neural Network we will work with a large number of parameters. For this reason, it makes sense to load training data in batches."
   ]
  },
  {
   "cell_type": "code",
   "metadata": {
    "id": "6amDX4_IP5NS",
    "ExecuteTime": {
     "end_time": "2025-09-29T21:31:47.917708Z",
     "start_time": "2025-09-29T21:31:47.914710Z"
    }
   },
   "source": [
    "\"TODO: set a proper batch size\"\n",
    "train_loader = DataLoader(mnist_train, batch_size=128, shuffle=True)\n",
    "test_loader = DataLoader(mnist_test, batch_size=256, shuffle=False)\n"
   ],
   "outputs": [],
   "execution_count": 5
  },
  {
   "cell_type": "markdown",
   "metadata": {
    "id": "2tsgInTTP5NU"
   },
   "source": [
    "### Define Model\n",
    "Here you need to define your model architecture, use your knowledge of ANN to design one."
   ]
  },
  {
   "cell_type": "code",
   "metadata": {
    "id": "qiX-74ZdP5NV",
    "ExecuteTime": {
     "end_time": "2025-09-29T21:31:50.484228Z",
     "start_time": "2025-09-29T21:31:50.479795Z"
    }
   },
   "source": [
    "class Model(nn.Module):\n",
    "    def __init__(self):\n",
    "        super(Model, self).__init__()\n",
    "        \"TODO: define model layers\"\n",
    "        self.conv1 = nn.Conv2d(1, 32, kernel_size=3, stride=1, padding=1)\n",
    "        self.conv2 = nn.Conv2d(32, 64, kernel_size=3, stride=1, padding=1)\n",
    "        self.pool = nn.MaxPool2d(kernel_size=2, stride=2)\n",
    "        self.fc1 = nn.Linear(64 * 7 * 7, 128)\n",
    "        self.fc2 = nn.Linear(128, 10)\n",
    "\n",
    "    def forward(self, x):\n",
    "        \"TODO: define model forward path\"\n",
    "        x = self.pool(nn.ReLU()(self.conv1(x)))\n",
    "        x = self.pool(nn.ReLU()(self.conv2(x)))\n",
    "        x = x.view(-1, 64 * 7 * 7)\n",
    "        x = nn.ReLU()(self.fc1(x))\n",
    "        x = self.fc2(x)\n",
    "        return x\n"
   ],
   "outputs": [],
   "execution_count": 6
  },
  {
   "cell_type": "markdown",
   "metadata": {
    "id": "Bg_NsTB5P5NW"
   },
   "source": [
    "### Create Model"
   ]
  },
  {
   "cell_type": "code",
   "metadata": {
    "id": "ke7flvvPP5NX",
    "colab": {
     "base_uri": "https://localhost:8080/"
    },
    "outputId": "ef687a92-08c2-4fe2-b976-4589cf40544d",
    "ExecuteTime": {
     "end_time": "2025-09-29T21:31:53.513222Z",
     "start_time": "2025-09-29T21:31:53.506385Z"
    }
   },
   "source": [
    "model = Model().to(device)\n",
    "model"
   ],
   "outputs": [
    {
     "data": {
      "text/plain": [
       "Model(\n",
       "  (conv1): Conv2d(1, 32, kernel_size=(3, 3), stride=(1, 1), padding=(1, 1))\n",
       "  (conv2): Conv2d(32, 64, kernel_size=(3, 3), stride=(1, 1), padding=(1, 1))\n",
       "  (pool): MaxPool2d(kernel_size=2, stride=2, padding=0, dilation=1, ceil_mode=False)\n",
       "  (fc1): Linear(in_features=3136, out_features=128, bias=True)\n",
       "  (fc2): Linear(in_features=128, out_features=10, bias=True)\n",
       ")"
      ]
     },
     "execution_count": 7,
     "metadata": {},
     "output_type": "execute_result"
    }
   ],
   "execution_count": 7
  },
  {
   "cell_type": "markdown",
   "metadata": {
    "id": "ANKC-PI8P5NY"
   },
   "source": [
    "### Choose a Loss Function"
   ]
  },
  {
   "cell_type": "code",
   "metadata": {
    "id": "0or_V377P5NY",
    "ExecuteTime": {
     "end_time": "2025-09-29T21:31:56.143613Z",
     "start_time": "2025-09-29T21:31:56.140513Z"
    }
   },
   "source": [
    "\"TODO: set a proper loss function\"\n",
    "criterion = nn.CrossEntropyLoss()"
   ],
   "outputs": [],
   "execution_count": 8
  },
  {
   "cell_type": "markdown",
   "metadata": {
    "id": "n1LDCPwDP5Na"
   },
   "source": [
    "### Choose an Optimizer"
   ]
  },
  {
   "cell_type": "code",
   "metadata": {
    "id": "gCGbKeiMP5Nb",
    "ExecuteTime": {
     "end_time": "2025-09-29T21:31:58.259608Z",
     "start_time": "2025-09-29T21:31:58.256360Z"
    }
   },
   "source": [
    "\"TODO: set a proper optimizer\"\n",
    "optimizer = Optimizers.Adam(model.parameters(), lr=0.001)\n"
   ],
   "outputs": [],
   "execution_count": 9
  },
  {
   "cell_type": "markdown",
   "metadata": {
    "id": "qKDKMSFGP5Nb"
   },
   "source": [
    "### Training Model\n",
    "After configuring all required parameters, it is time to train your model!"
   ]
  },
  {
   "cell_type": "code",
   "metadata": {
    "id": "N6qhPT9zP5Nc",
    "colab": {
     "base_uri": "https://localhost:8080/",
     "height": 49,
     "referenced_widgets": [
      "004b498a0cd54ee7b2cd30d7fbb540c4",
      "c83b4ff064344e668f6014003a7ee74a",
      "4e4f9a111a8c44869347791db518a9e2",
      "800b0bc98fa94fd2b3f0e858f9efa170",
      "29c9d72f8f764ec4a13c22a3ef4296db",
      "e2f7e9740e8d471da2b4a3110d1e9ee7",
      "4faa6886085444f3b0f661104953724c",
      "26fc0efc987d4262848c9f5a22498886",
      "317a16690e7d47478f3e778a69088d8f",
      "63081fef5cca401ba480ecdee32a3450",
      "5a447d609d9245ec8ffdb588d5aff8d1"
     ]
    },
    "outputId": "cd0f5809-fc95-4e98-be6f-5ff196417030",
    "ExecuteTime": {
     "end_time": "2025-09-29T21:35:09.610710Z",
     "start_time": "2025-09-29T21:32:00.827712Z"
    }
   },
   "source": [
    "\"TODO: set an optimal epoch\"\n",
    "EPOCHS = 10\n",
    "\n",
    "\" you don't need to change the rest of this code\"\n",
    "\n",
    "train_correct  = []\n",
    "test_correct = []\n",
    "\n",
    "best_train_acc = 0\n",
    "best_test_acc = 0\n",
    "\n",
    "for e in tqdm(range(EPOCHS)):\n",
    "\n",
    "  trn_corr = 0\n",
    "  tst_corr = 0\n",
    "\n",
    "  # training\n",
    "  model.train()\n",
    "  for X_train, y_train in train_loader:\n",
    "\n",
    "    X_train_dev = torch.autograd.Variable(X_train).to(device)\n",
    "    y_train_dev = torch.autograd.Variable(y_train).to(device)\n",
    "\n",
    "    optimizer.zero_grad()\n",
    "\n",
    "    y_pred_dev = model(X_train_dev)\n",
    "    loss = criterion(y_pred_dev, y_train_dev)\n",
    "\n",
    "    loss.backward()\n",
    "    optimizer.step()\n",
    "\n",
    "    predicted = torch.argmax(y_pred_dev, 1)\n",
    "    trn_corr += torch.sum(predicted == y_train_dev)\n",
    "\n",
    "  acc = (trn_corr/len(mnist_train)).item()\n",
    "  best_train_acc = acc if(best_train_acc < acc) else best_train_acc\n",
    "  train_correct.append(acc)\n",
    "\n",
    "  # testing\n",
    "  model.eval()\n",
    "  for X_test, y_test in test_loader:\n",
    "\n",
    "    X_test = X_test.to(device)\n",
    "    y_test = y_test.to(device)\n",
    "\n",
    "    predicted = model(X_test)\n",
    "    predicted = torch.argmax(predicted, 1)\n",
    "    tst_corr += torch.sum(predicted == y_test)\n",
    "\n",
    "  acc = (tst_corr/len(mnist_test)).item()\n",
    "  best_test_acc = acc if(best_test_acc < acc) else best_test_acc\n",
    "  test_correct.append(acc)"
   ],
   "outputs": [
    {
     "data": {
      "text/plain": [
       "  0%|          | 0/10 [00:00<?, ?it/s]"
      ],
      "application/vnd.jupyter.widget-view+json": {
       "version_major": 2,
       "version_minor": 0,
       "model_id": "6d564835f7494400ab7bbfc767a2d789"
      }
     },
     "metadata": {},
     "output_type": "display_data"
    }
   ],
   "execution_count": 10
  },
  {
   "cell_type": "markdown",
   "metadata": {
    "id": "LPXw7uuYP5Ne"
   },
   "source": [
    "### Evaluation\n",
    "Here you can see your model performance."
   ]
  },
  {
   "cell_type": "code",
   "metadata": {
    "id": "uK7iE-0SP5Nf",
    "colab": {
     "base_uri": "https://localhost:8080/",
     "height": 501
    },
    "outputId": "17aa9b38-e390-4e8c-ef98-20aa1d14b7c5",
    "ExecuteTime": {
     "end_time": "2025-09-29T21:35:12.242602Z",
     "start_time": "2025-09-29T21:35:12.176095Z"
    }
   },
   "source": [
    "plt.plot(train_correct, label='train accuracy')\n",
    "plt.plot(test_correct, label = 'test accuracy')\n",
    "plt.xlabel('Epoch')\n",
    "plt.ylabel('Accuracy')\n",
    "plt.legend(loc='lower right')\n",
    "plt.show();\n",
    "\n",
    "print(\"\\nOn train - best accuracy: {:.2f}, final accuracy: {:.2f}\".format(best_train_acc, train_correct[-1]))\n",
    "print(\"On test - best accuracy: {:.2f}, final accuracy: {:.2f}\".format(best_test_acc, test_correct[-1]))"
   ],
   "outputs": [
    {
     "data": {
      "text/plain": [
       "<Figure size 640x480 with 1 Axes>"
      ],
      "image/png": "[encoded data removed]"
     },
     "metadata": {},
     "output_type": "display_data"
    },
    {
     "name": "stdout",
     "output_type": "stream",
     "text": [
      "\n",
      "On train - best accuracy: 0.94, final accuracy: 0.94\n",
      "On test - best accuracy: 0.92, final accuracy: 0.92\n"
     ]
    }
   ],
   "execution_count": 11
  },
  {
   "cell_type": "code",
   "source": [],
   "metadata": {
    "id": "x6ay-HhBG-cj"
   },
   "execution_count": null,
   "outputs": []
  }
 ],
 "metadata": {
  "kernelspec": {
   "display_name": "Python 3 (ipykernel)",
   "name": "python3",
   "language": "python"
  },
  "language_info": {
   "codemirror_mode": {
    "name": "ipython",
    "version": 3
   },
   "file_extension": ".py",
   "mimetype": "text/x-python",
   "name": "python",
   "nbconvert_exporter": "python",
   "pygments_lexer": "ipython3",
   "version": "3.10.10"
  },
  "colab": {
   "provenance": [],
   "gpuType": "T4"
  },
  "accelerator": "GPU",
  "widgets": {
   "application/vnd.jupyter.widget-state+json": {
    "004b498a0cd54ee7b2cd30d7fbb540c4": {
     "model_module": "@jupyter-widgets/controls",
     "model_name": "HBoxModel",
     "model_module_version": "1.5.0",
     "state": {
      "_dom_classes": [],
      "_model_module": "@jupyter-widgets/controls",
      "_model_module_version": "1.5.0",
      "_model_name": "HBoxModel",
      "_view_count": null,
      "_view_module": "@jupyter-widgets/controls",
      "_view_module_version": "1.5.0",
      "_view_name": "HBoxView",
      "box_style": "",
      "children": [
       "IPY_MODEL_c83b4ff064344e668f6014003a7ee74a",
       "IPY_MODEL_4e4f9a111a8c44869347791db518a9e2",
       "IPY_MODEL_800b0bc98fa94fd2b3f0e858f9efa170"
      ],
      "layout": "IPY_MODEL_29c9d72f8f764ec4a13c22a3ef4296db"
     }
    },
    "c83b4ff064344e668f6014003a7ee74a": {
     "model_module": "@jupyter-widgets/controls",
     "model_name": "HTMLModel",
     "model_module_version": "1.5.0",
     "state": {
      "_dom_classes": [],
      "_model_module": "@jupyter-widgets/controls",
      "_model_module_version": "1.5.0",
      "_model_name": "HTMLModel",
      "_view_count": null,
      "_view_module": "@jupyter-widgets/controls",
      "_view_module_version": "1.5.0",
      "_view_name": "HTMLView",
      "description": "",
      "description_tooltip": null,
      "layout": "IPY_MODEL_e2f7e9740e8d471da2b4a3110d1e9ee7",
      "placeholder": "​",
      "style": "IPY_MODEL_4faa6886085444f3b0f661104953724c",
      "value": "100%"
     }
    },
    "4e4f9a111a8c44869347791db518a9e2": {
     "model_module": "@jupyter-widgets/controls",
     "model_name": "FloatProgressModel",
     "model_module_version": "1.5.0",
     "state": {
      "_dom_classes": [],
      "_model_module": "@jupyter-widgets/controls",
      "_model_module_version": "1.5.0",
      "_model_name": "FloatProgressModel",
      "_view_count": null,
      "_view_module": "@jupyter-widgets/controls",
      "_view_module_version": "1.5.0",
      "_view_name": "ProgressView",
      "bar_style": "success",
      "description": "",
      "description_tooltip": null,
      "layout": "IPY_MODEL_26fc0efc987d4262848c9f5a22498886",
      "max": 10,
      "min": 0,
      "orientation": "horizontal",
      "style": "IPY_MODEL_317a16690e7d47478f3e778a69088d8f",
      "value": 10
     }
    },
    "800b0bc98fa94fd2b3f0e858f9efa170": {
     "model_module": "@jupyter-widgets/controls",
     "model_name": "HTMLModel",
     "model_module_version": "1.5.0",
     "state": {
      "_dom_classes": [],
      "_model_module": "@jupyter-widgets/controls",
      "_model_module_version": "1.5.0",
      "_model_name": "HTMLModel",
      "_view_count": null,
      "_view_module": "@jupyter-widgets/controls",
      "_view_module_version": "1.5.0",
      "_view_name": "HTMLView",
      "description": "",
      "description_tooltip": null,
      "layout": "IPY_MODEL_63081fef5cca401ba480ecdee32a3450",
      "placeholder": "​",
      "style": "IPY_MODEL_5a447d609d9245ec8ffdb588d5aff8d1",
      "value": " 10/10 [01:25&lt;00:00,  8.40s/it]"
     }
    },
    "29c9d72f8f764ec4a13c22a3ef4296db": {
     "model_module": "@jupyter-widgets/base",
     "model_name": "LayoutModel",
     "model_module_version": "1.2.0",
     "state": {
      "_model_module": "@jupyter-widgets/base",
      "_model_module_version": "1.2.0",
      "_model_name": "LayoutModel",
      "_view_count": null,
      "_view_module": "@jupyter-widgets/base",
      "_view_module_version": "1.2.0",
      "_view_name": "LayoutView",
      "align_content": null,
      "align_items": null,
      "align_self": null,
      "border": null,
      "bottom": null,
      "display": null,
      "flex": null,
      "flex_flow": null,
      "grid_area": null,
      "grid_auto_columns": null,
      "grid_auto_flow": null,
      "grid_auto_rows": null,
      "grid_column": null,
      "grid_gap": null,
      "grid_row": null,
      "grid_template_areas": null,
      "grid_template_columns": null,
      "grid_template_rows": null,
      "height": null,
      "justify_content": null,
      "justify_items": null,
      "left": null,
      "margin": null,
      "max_height": null,
      "max_width": null,
      "min_height": null,
      "min_width": null,
      "object_fit": null,
      "object_position": null,
      "order": null,
      "overflow": null,
      "overflow_x": null,
      "overflow_y": null,
      "padding": null,
      "right": null,
      "top": null,
      "visibility": null,
      "width": null
     }
    },
    "e2f7e9740e8d471da2b4a3110d1e9ee7": {
     "model_module": "@jupyter-widgets/base",
     "model_name": "LayoutModel",
     "model_module_version": "1.2.0",
     "state": {
      "_model_module": "@jupyter-widgets/base",
      "_model_module_version": "1.2.0",
      "_model_name": "LayoutModel",
      "_view_count": null,
      "_view_module": "@jupyter-widgets/base",
      "_view_module_version": "1.2.0",
      "_view_name": "LayoutView",
      "align_content": null,
      "align_items": null,
      "align_self": null,
      "border": null,
      "bottom": null,
      "display": null,
      "flex": null,
      "flex_flow": null,
      "grid_area": null,
      "grid_auto_columns": null,
      "grid_auto_flow": null,
      "grid_auto_rows": null,
      "grid_column": null,
      "grid_gap": null,
      "grid_row": null,
      "grid_template_areas": null,
      "grid_template_columns": null,
      "grid_template_rows": null,
      "height": null,
      "justify_content": null,
      "justify_items": null,
      "left": null,
      "margin": null,
      "max_height": null,
      "max_width": null,
      "min_height": null,
      "min_width": null,
      "object_fit": null,
      "object_position": null,
      "order": null,
      "overflow": null,
      "overflow_x": null,
      "overflow_y": null,
      "padding": null,
      "right": null,
      "top": null,
      "visibility": null,
      "width": null
     }
    },
    "4faa6886085444f3b0f661104953724c": {
     "model_module": "@jupyter-widgets/controls",
     "model_name": "DescriptionStyleModel",
     "model_module_version": "1.5.0",
     "state": {
      "_model_module": "@jupyter-widgets/controls",
      "_model_module_version": "1.5.0",
      "_model_name": "DescriptionStyleModel",
      "_view_count": null,
      "_view_module": "@jupyter-widgets/base",
      "_view_module_version": "1.2.0",
      "_view_name": "StyleView",
      "description_width": ""
     }
    },
    "26fc0efc987d4262848c9f5a22498886": {
     "model_module": "@jupyter-widgets/base",
     "model_name": "LayoutModel",
     "model_module_version": "1.2.0",
     "state": {
      "_model_module": "@jupyter-widgets/base",
      "_model_module_version": "1.2.0",
      "_model_name": "LayoutModel",
      "_view_count": null,
      "_view_module": "@jupyter-widgets/base",
      "_view_module_version": "1.2.0",
      "_view_name": "LayoutView",
      "align_content": null,
      "align_items": null,
      "align_self": null,
      "border": null,
      "bottom": null,
      "display": null,
      "flex": null,
      "flex_flow": null,
      "grid_area": null,
      "grid_auto_columns": null,
      "grid_auto_flow": null,
      "grid_auto_rows": null,
      "grid_column": null,
      "grid_gap": null,
      "grid_row": null,
      "grid_template_areas": null,
      "grid_template_columns": null,
      "grid_template_rows": null,
      "height": null,
      "justify_content": null,
      "justify_items": null,
      "left": null,
      "margin": null,
      "max_height": null,
      "max_width": null,
      "min_height": null,
      "min_width": null,
      "object_fit": null,
      "object_position": null,
      "order": null,
      "overflow": null,
      "overflow_x": null,
      "overflow_y": null,
      "padding": null,
      "right": null,
      "top": null,
      "visibility": null,
      "width": null
     }
    },
    "317a16690e7d47478f3e778a69088d8f": {
     "model_module": "@jupyter-widgets/controls",
     "model_name": "ProgressStyleModel",
     "model_module_version": "1.5.0",
     "state": {
      "_model_module": "@jupyter-widgets/controls",
      "_model_module_version": "1.5.0",
      "_model_name": "ProgressStyleModel",
      "_view_count": null,
      "_view_module": "@jupyter-widgets/base",
      "_view_module_version": "1.2.0",
      "_view_name": "StyleView",
      "bar_color": null,
      "description_width": ""
     }
    },
    "63081fef5cca401ba480ecdee32a3450": {
     "model_module": "@jupyter-widgets/base",
     "model_name": "LayoutModel",
     "model_module_version": "1.2.0",
     "state": {
      "_model_module": "@jupyter-widgets/base",
      "_model_module_version": "1.2.0",
      "_model_name": "LayoutModel",
      "_view_count": null,
      "_view_module": "@jupyter-widgets/base",
      "_view_module_version": "1.2.0",
      "_view_name": "LayoutView",
      "align_content": null,
      "align_items": null,
      "align_self": null,
      "border": null,
      "bottom": null,
      "display": null,
      "flex": null,
      "flex_flow": null,
      "grid_area": null,
      "grid_auto_columns": null,
      "grid_auto_flow": null,
      "grid_auto_rows": null,
      "grid_column": null,
      "grid_gap": null,
      "grid_row": null,
      "grid_template_areas": null,
      "grid_template_columns": null,
      "grid_template_rows": null,
      "height": null,
      "justify_content": null,
      "justify_items": null,
      "left": null,
      "margin": null,
      "max_height": null,
      "max_width": null,
      "min_height": null,
      "min_width": null,
      "object_fit": null,
      "object_position": null,
      "order": null,
      "overflow": null,
      "overflow_x": null,
      "overflow_y": null,
      "padding": null,
      "right": null,
      "top": null,
      "visibility": null,
      "width": null
     }
    },
    "5a447d609d9245ec8ffdb588d5aff8d1": {
     "model_module": "@jupyter-widgets/controls",
     "model_name": "DescriptionStyleModel",
     "model_module_version": "1.5.0",
     "state": {
      "_model_module": "@jupyter-widgets/controls",
      "_model_module_version": "1.5.0",
      "_model_name": "DescriptionStyleModel",
      "_view_count": null,
      "_view_module": "@jupyter-widgets/base",
      "_view_module_version": "1.2.0",
      "_view_name": "StyleView",
      "description_width": ""
     }
    }
   }
  }
 },
 "nbformat": 4,
 "nbformat_minor": 0
}
